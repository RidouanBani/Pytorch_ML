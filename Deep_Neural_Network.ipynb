{
  "nbformat": 4,
  "nbformat_minor": 0,
  "metadata": {
    "colab": {
      "name": "Deep_Neural_Network.ipynb",
      "provenance": [],
      "authorship_tag": "ABX9TyODsHAh3b3dPYQHcmY6Uiki",
      "include_colab_link": true
    },
    "kernelspec": {
      "name": "python3",
      "display_name": "Python 3"
    }
  },
  "cells": [
    {
      "cell_type": "markdown",
      "metadata": {
        "id": "view-in-github",
        "colab_type": "text"
      },
      "source": [
        "<a href=\"https://colab.research.google.com/github/RidouanBani/Pytorch_ML/blob/master/Deep_Neural_Network.ipynb\" target=\"_parent\"><img src=\"https://colab.research.google.com/assets/colab-badge.svg\" alt=\"Open In Colab\"/></a>"
      ]
    },
    {
      "cell_type": "markdown",
      "metadata": {
        "id": "5bDwlk72AB--",
        "colab_type": "text"
      },
      "source": [
        "Install **torch**"
      ]
    },
    {
      "cell_type": "code",
      "metadata": {
        "id": "sOGVLn4m_kNQ",
        "colab_type": "code",
        "colab": {
          "base_uri": "https://localhost:8080/",
          "height": 68
        },
        "outputId": "1b076650-80f8-45ea-d4a5-84ee947eaf6a"
      },
      "source": [
        "!pip install torch"
      ],
      "execution_count": 30,
      "outputs": [
        {
          "output_type": "stream",
          "text": [
            "Requirement already satisfied: torch in /usr/local/lib/python3.6/dist-packages (1.6.0+cu101)\n",
            "Requirement already satisfied: future in /usr/local/lib/python3.6/dist-packages (from torch) (0.16.0)\n",
            "Requirement already satisfied: numpy in /usr/local/lib/python3.6/dist-packages (from torch) (1.18.5)\n"
          ],
          "name": "stdout"
        }
      ]
    },
    {
      "cell_type": "code",
      "metadata": {
        "id": "rwvZbUAaANpD",
        "colab_type": "code",
        "colab": {}
      },
      "source": [
        "import torch\n",
        "import numpy as np\n",
        "import matplotlib.pyplot as plt\n",
        "import torch.nn as nn\n",
        "from sklearn import datasets"
      ],
      "execution_count": 31,
      "outputs": []
    },
    {
      "cell_type": "code",
      "metadata": {
        "id": "uZnV3UhcARrU",
        "colab_type": "code",
        "colab": {}
      },
      "source": [
        "n_pts = 500\n",
        "X, y= datasets.make_circles(n_samples=n_pts,random_state=123, noise=0.1, factor=0.2)\n",
        "x_data=torch.Tensor(X)\n",
        "y_data=torch.Tensor(y.reshape(500,1))"
      ],
      "execution_count": 32,
      "outputs": []
    },
    {
      "cell_type": "code",
      "metadata": {
        "id": "uS59DvznB5B8",
        "colab_type": "code",
        "colab": {}
      },
      "source": [
        "\n",
        "def scatter_plot():\n",
        "  plt.scatter(X[y==0, 0],X[y==0, 1])\n",
        "  plt.scatter(X[y==1, 0],X[y==1, 1])"
      ],
      "execution_count": 33,
      "outputs": []
    },
    {
      "cell_type": "code",
      "metadata": {
        "id": "JsOMknKDCJYG",
        "colab_type": "code",
        "colab": {
          "base_uri": "https://localhost:8080/",
          "height": 265
        },
        "outputId": "1a7108d2-2d44-4676-b257-832d44703a07"
      },
      "source": [
        "scatter_plot()"
      ],
      "execution_count": 34,
      "outputs": [
        {
          "output_type": "display_data",
          "data": {
            "image/png": "[encoded data removed]",
            "text/plain": [
              "<Figure size 432x288 with 1 Axes>"
            ]
          },
          "metadata": {
            "tags": [],
            "needs_background": "light"
          }
        }
      ]
    },
    {
      "cell_type": "code",
      "metadata": {
        "id": "9JC3COdeDDXC",
        "colab_type": "code",
        "colab": {}
      },
      "source": [
        "class Model(nn.Module):\n",
        "  def __init__(self, input_size, H1, output_size):\n",
        "    super().__init__()\n",
        "    self.linear1 = nn.Linear(input_size, H1)\n",
        "    self.linear2 = nn.Linear(H1, output_size)\n",
        "  def forward(self, x):\n",
        "    x = torch.sigmoid(self.linear1(x))\n",
        "    x = torch.sigmoid(self.linear2(x))\n",
        "    return x"
      ],
      "execution_count": 35,
      "outputs": []
    },
    {
      "cell_type": "code",
      "metadata": {
        "id": "JIQEHMlhKPtq",
        "colab_type": "code",
        "colab": {
          "base_uri": "https://localhost:8080/",
          "height": 136
        },
        "outputId": "76029a20-131a-4751-ab30-80ae7df22b3e"
      },
      "source": [
        "torch.manual_seed(2)\n",
        "model = Model(2, 3, 1)\n",
        "print(list(model.parameters()))"
      ],
      "execution_count": 58,
      "outputs": [
        {
          "output_type": "stream",
          "text": [
            "[Parameter containing:\n",
            "tensor([[ 0.1622, -0.1683],\n",
            "        [ 0.1939, -0.0361],\n",
            "        [ 0.3021,  0.1683]], requires_grad=True), Parameter containing:\n",
            "tensor([-0.0813, -0.5717,  0.1614], requires_grad=True), Parameter containing:\n",
            "tensor([[-0.5112,  0.0759,  0.0384]], requires_grad=True), Parameter containing:\n",
            "tensor([-0.1270], requires_grad=True)]\n"
          ],
          "name": "stdout"
        }
      ]
    },
    {
      "cell_type": "code",
      "metadata": {
        "id": "1vp_pqhTNURS",
        "colab_type": "code",
        "colab": {}
      },
      "source": [
        "creterion = nn.BCELoss()\n",
        "optimizer = torch.optim.Adam(model.parameters(), lr = 0.1)"
      ],
      "execution_count": 59,
      "outputs": []
    },
    {
      "cell_type": "code",
      "metadata": {
        "id": "r8HdGulVN3TP",
        "colab_type": "code",
        "colab": {}
      },
      "source": [
        "epochs = 1000\n",
        "losses = []\n",
        "for i in range(epochs):\n",
        "  y_pred = model.forward(x_data)\n",
        "  loss = creterion(y_pred,y_data)\n",
        "  #print(\"epoch:\", i, \"loss:\",loss.item())\n",
        "  losses.append(loss.item())\n",
        "  optimizer.zero_grad()\n",
        "  loss.backward()\n",
        "  optimizer.step()"
      ],
      "execution_count": 60,
      "outputs": []
    },
    {
      "cell_type": "code",
      "metadata": {
        "id": "qEHTdr3cOGcz",
        "colab_type": "code",
        "colab": {
          "base_uri": "https://localhost:8080/",
          "height": 296
        },
        "outputId": "7873e0c9-7f62-4f40-f2d8-4686dcf9b2ee"
      },
      "source": [
        "plt.plot(range(epochs),losses)\n",
        "plt.ylabel('Loss')\n",
        "plt.xlabel('Epoch')"
      ],
      "execution_count": 61,
      "outputs": [
        {
          "output_type": "execute_result",
          "data": {
            "text/plain": [
              "Text(0.5, 0, 'Epoch')"
            ]
          },
          "metadata": {
            "tags": []
          },
          "execution_count": 61
        },
        {
          "output_type": "display_data",
          "data": {
            "image/png": "[encoded data removed]",
            "text/plain": [
              "<Figure size 432x288 with 1 Axes>"
            ]
          },
          "metadata": {
            "tags": [],
            "needs_background": "light"
          }
        }
      ]
    },
    {
      "cell_type": "code",
      "metadata": {
        "id": "pWSIjdprQLqp",
        "colab_type": "code",
        "colab": {}
      },
      "source": [
        "def plot_decision_boundary(X, y):\n",
        "  x_span = np.linspace(min(X[:,0]),max(X[:,0]))\n",
        "  y_span = np.linspace(min(X[:,1]),max(X[:,1]))\n",
        "  xx, yy = np.meshgrid(x_span, y_span)\n",
        "  grid = torch.Tensor(np.c_[xx.ravel(), yy.ravel()])\n",
        "  pred_func = model.forward(grid)\n",
        "  z = pred_func.view(xx.shape).detach().numpy()\n",
        "  plt.contourf(xx, yy, z)"
      ],
      "execution_count": 62,
      "outputs": []
    },
    {
      "cell_type": "code",
      "metadata": {
        "id": "d24uaRfEQSoW",
        "colab_type": "code",
        "colab": {
          "base_uri": "https://localhost:8080/",
          "height": 265
        },
        "outputId": "fb2c5811-ce99-484e-c69a-25a91c1b6b6c"
      },
      "source": [
        "plot_decision_boundary(X, y)\n",
        "scatter_plot()"
      ],
      "execution_count": 63,
      "outputs": [
        {
          "output_type": "display_data",
          "data": {
            "image/png": "[encoded data removed]",
            "text/plain": [
              "<Figure size 432x288 with 1 Axes>"
            ]
          },
          "metadata": {
            "tags": [],
            "needs_background": "light"
          }
        }
      ]
    },
    {
      "cell_type": "code",
      "metadata": {
        "id": "SFNrTxIiWoWF",
        "colab_type": "code",
        "colab": {
          "base_uri": "https://localhost:8080/",
          "height": 282
        },
        "outputId": "e91091fa-88cb-43c9-a19a-0cc2a764a993"
      },
      "source": [
        "x = 0.025\n",
        "y = 0.025\n",
        "point = torch.Tensor([x,y])\n",
        "prediction = model.forward(point)\n",
        "plt.plot([x],[y], marker = 'o', markersize = 10, color = \"red\")\n",
        "print(prediction)\n",
        "plot_decision_boundary(X, y)"
      ],
      "execution_count": 68,
      "outputs": [
        {
          "output_type": "stream",
          "text": [
            "tensor([0.9997], grad_fn=<SigmoidBackward>)\n"
          ],
          "name": "stdout"
        },
        {
          "output_type": "display_data",
          "data": {
            "image/png": "[encoded data removed]",
            "text/plain": [
              "<Figure size 432x288 with 1 Axes>"
            ]
          },
          "metadata": {
            "tags": [],
            "needs_background": "light"
          }
        }
      ]
    }
  ]
}